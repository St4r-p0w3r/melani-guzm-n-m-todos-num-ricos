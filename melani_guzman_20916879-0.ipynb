{
 "cells": [
  {
   "cell_type": "markdown",
   "id": "2f566249",
   "metadata": {},
   "source": [
    "# tarea 1.2\n",
    "Escriba un código que produzca el siguiente texto:\n",
    "1\n",
    "11\n",
    "111\n",
    "1111\n",
    "11111\n",
    "111111\n",
    "1111111\n",
    "11111111\n",
    "111111111\n",
    "1111111111"
   ]
  },
  {
   "cell_type": "code",
   "execution_count": 3,
   "id": "f40f2e54",
   "metadata": {},
   "outputs": [
    {
     "name": "stdout",
     "output_type": "stream",
     "text": [
      "1\n",
      "11\n",
      "111\n",
      "1111\n",
      "11111\n",
      "111111\n",
      "1111111\n",
      "11111111\n",
      "111111111\n",
      "1111111111\n"
     ]
    }
   ],
   "source": [
    "#La variable \"i\" inicia con la cantidad 0\n",
    "for i in range(10): #este bucle nos indica que 'i' será aumentado hasta llegar a 10\n",
    "    print((1+i)*'1') #Las funciones del ciclo indican que cada vez que se pase por el \n",
    "                    #se escribirá el número 'i', 'i+1' cantidad de veces \n",
    "        #cada vez que se termina un ciclo, 'i' aumenta 1\n",
    "    "
   ]
  },
  {
   "cell_type": "code",
   "execution_count": null,
   "id": "4fc31797",
   "metadata": {},
   "outputs": [],
   "source": []
  }
 ],
 "metadata": {
  "kernelspec": {
   "display_name": "Python 3 (ipykernel)",
   "language": "python",
   "name": "python3"
  },
  "language_info": {
   "codemirror_mode": {
    "name": "ipython",
    "version": 3
   },
   "file_extension": ".py",
   "mimetype": "text/x-python",
   "name": "python",
   "nbconvert_exporter": "python",
   "pygments_lexer": "ipython3",
   "version": "3.11.5"
  }
 },
 "nbformat": 4,
 "nbformat_minor": 5
}
