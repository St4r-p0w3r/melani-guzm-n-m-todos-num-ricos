{
  "nbformat": 4,
  "nbformat_minor": 0,
  "metadata": {
    "colab": {
      "provenance": []
    },
    "kernelspec": {
      "name": "python3",
      "display_name": "Python 3"
    },
    "language_info": {
      "name": "python"
    }
  },
  "cells": [
    {
      "cell_type": "code",
      "execution_count": 2,
      "metadata": {
        "colab": {
          "base_uri": "https://localhost:8080/"
        },
        "id": "B5FPKomDwfB7",
        "outputId": "4c64432c-db14-4f41-ad5c-83b88be042bd"
      },
      "outputs": [
        {
          "output_type": "stream",
          "name": "stdout",
          "text": [
            "Probabilidad de 2 impactos: 0.2707\n",
            "Probabilidad de 3 impactos: 0.1804\n",
            "Probabilidad de 3 impactos: 0.1804\n",
            "Probabilidad de 3 impactos: 0.1804\n",
            "Probabilidad de 0 impactos: 0.1353\n",
            "Probabilidad de 1 impactos: 0.2707\n",
            "Probabilidad de 2 impactos: 0.2707\n",
            "Probabilidad de 2 impactos: 0.2707\n",
            "Probabilidad de 0 impactos: 0.1353\n",
            "Probabilidad de 4 impactos: 0.0902\n",
            "Probabilidad de 10 impactos: 0.0000\n",
            "Probabilidad de 0 impactos: 0.1353\n",
            "Probabilidad de 2 impactos: 0.2707\n",
            "Probabilidad de 4 impactos: 0.0902\n",
            "Probabilidad de 6 impactos: 0.0120\n",
            "Probabilidad de 3 impactos: 0.1804\n",
            "Probabilidad de 2 impactos: 0.2707\n",
            "Probabilidad de 1 impactos: 0.2707\n",
            "Probabilidad de 1 impactos: 0.2707\n",
            "Probabilidad de 1 impactos: 0.2707\n"
          ]
        }
      ],
      "source": [
        "import scipy.stats as stats\n",
        "\n",
        "# Tasa promedio de impactos por segundo (lambda)\n",
        "#corresponde a la tasa de promedio de impactos por segundo segun el enunciado\n",
        "lambda_param = 2\n",
        "\n",
        "# Mediciones obtenidas\n",
        "mediciones = [2, 3, 3, 3, 0, 1, 2, 2, 0, 4, 10, 0, 2, 4, 6, 3, 2, 1, 1, 1]\n",
        "\n",
        "\n",
        "# Calculamos la probabilidad para cada medición\n",
        "#se utiliza esta funcion para calcular la probabilidad de obtener ese\n",
        "#numero de impactos, dada la tasa de promedio\n",
        "for medida in mediciones:\n",
        "    probabilidad = stats.poisson.pmf(medida, lambda_param)\n",
        "    print(f\"Probabilidad de {medida} impactos: {probabilidad:.4f}\")"
      ]
    }
  ]
}