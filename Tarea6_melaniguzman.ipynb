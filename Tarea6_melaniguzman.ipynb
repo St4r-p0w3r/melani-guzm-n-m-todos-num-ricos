{
 "cells": [
  {
   "cell_type": "markdown",
   "id": "8a34fe1c",
   "metadata": {},
   "source": [
    "## tarea 6\n",
    "En clase escribimos un código para el método de Romberg en el cual el usuario debe ingresar el número de filas a calcular. Modifique el código para que el usuario especifique una precisión y el método se detenga cuando sea alcanzada esa precisión.\n",
    "\n",
    "Para estimar el error cometido en el cálculo de una integral se puede comparar el resultado obtenido en una fila dada, con el resultado obtenido en la fila anterior."
   ]
  },
  {
   "cell_type": "code",
   "execution_count": 3,
   "id": "4c062df7",
   "metadata": {},
   "outputs": [],
   "source": [
    "import numpy as np\n",
    "\n",
    "def romberg(f, a, b, tol):\n",
    "    R0 = []\n",
    "    R1 = []\n",
    "    h = (b - a)\n",
    "    \n",
    "    #primera aproximacion usando la regla trapezoidal\n",
    "    R0.append((h/2)*(f(b) + f(a)))\n",
    "    i = 1  #contador de iteraciones\n",
    "    \n",
    "    while True:\n",
    "        h /= 2  #reducimos el tamaño de paso\n",
    "        #suma de los nuevos puntos medios\n",
    "        s = sum(f(a + (k - 0.5)*h) for k in range(1, 2**(i-1) + 1))\n",
    "        R1.append((1/2)*(R0[0] + h * s))  #nueva aproximacion trapezoidal\n",
    "\n",
    "        #extrapolacion de richardson\n",
    "        for j in range(1, i + 1):\n",
    "            R1.append(R1[j-1] + (R1[j-1] - R0[j-1]) / (4**j - 1))\n",
    "\n",
    "        #criterio de parada: comparacion de la ultima aproximacion con la anterior\n",
    "        if i > 1 and abs(R1[-1] - R0[-1]) < tol:\n",
    "            return R1[-1]  #se alcanzo la precision deseada\n",
    "\n",
    "        R0 = R1.copy()  #actualizamos R0 para la siguiente iteracion\n",
    "        R1 = []  #limpiamos R1 para la siguiente iteracion\n",
    "        i += 1  #aumentamos el numero de iteraciones\n",
    "\n",
    "        #para probar el codigo utilizare una funcion conocida del seno en [0,pi]\n",
    "        \n"
   ]
  },
  {
   "cell_type": "code",
   "execution_count": 4,
   "id": "26f13779",
   "metadata": {},
   "outputs": [
    {
     "name": "stdout",
     "output_type": "stream",
     "text": [
      "Resultado de Romberg: 0.9999990874766213\n",
      "Valor exacto: 2\n",
      "Diferencia: 1.0000009125233786\n"
     ]
    }
   ],
   "source": [
    "import numpy as np\n",
    "import math\n",
    "\n",
    "#defino la funcion a integrar\n",
    "def f(x):\n",
    "    return np.sin(x)\n",
    "\n",
    "#ejecuto el metodo de Romberg con precision de 1e-6\n",
    "resultado = romberg(f, 0, math.pi, tol=1e-6)\n",
    "\n",
    "#imprimir el resultado\n",
    "print(f\"Resultado de Romberg: {resultado}\")\n",
    "print(f\"Valor exacto: 2\")\n",
    "print(f\"Diferencia: {abs(resultado - 2)}\")\n",
    "\n",
    "#con esto se comprueba que el codigo funciona y calcula la integral y se detendra\n",
    "#cuando la precision lo especifique"
   ]
  },
  {
   "cell_type": "code",
   "execution_count": null,
   "id": "e2e021da",
   "metadata": {},
   "outputs": [],
   "source": []
  }
 ],
 "metadata": {
  "kernelspec": {
   "display_name": "Python 3 (ipykernel)",
   "language": "python",
   "name": "python3"
  },
  "language_info": {
   "codemirror_mode": {
    "name": "ipython",
    "version": 3
   },
   "file_extension": ".py",
   "mimetype": "text/x-python",
   "name": "python",
   "nbconvert_exporter": "python",
   "pygments_lexer": "ipython3",
   "version": "3.11.4"
  }
 },
 "nbformat": 4,
 "nbformat_minor": 5
}
