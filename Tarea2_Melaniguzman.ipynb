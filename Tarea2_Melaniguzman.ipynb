{
 "cells": [
  {
   "cell_type": "markdown",
   "metadata": {
    "id": "jWsraqjDWFTW"
   },
   "source": [
    "# Tarea 2.6\n",
    "\n",
    "En el problema de la urna con23 bolas, al extraer 6 de ellas sin reemplazo.\n",
    "\n",
    "¿Cuál es la probabilidad de que entre las tres primeras no haya ninguna roja?\n",
    "¿Cuál es la probabilidad de sacar dos bolas de cada color?\n"
   ]
  },
  {
   "cell_type": "code",
   "execution_count": 1,
   "metadata": {
    "colab": {
     "base_uri": "https://localhost:8080/"
    },
    "id": "8aLAzJUsWLiU",
    "outputId": "f44ec178-2bed-4fe5-d1f2-445647dadc70"
   },
   "outputs": [
    {
     "name": "stdout",
     "output_type": "stream",
     "text": [
      "0.3779816513761468\n"
     ]
    }
   ],
   "source": [
    "import numpy as np\n",
    "\n",
    "# Probabilidades dadas para los resultados del dado\n",
    "prob_dado = np.array([0.1, 0.2, 0.2, 0.3, 0.1, 0.1])\n",
    "\n",
    "# Definimos los posibles valores de N\n",
    "N_valores = np.array([1, 2, 3, 4, 5, 6])\n",
    "\n",
    "# Función para calcular la probabilidad de obtener al menos una cara\n",
    "def prob_una_cara(N):\n",
    "    return 1 - (0.5) ** N\n",
    "\n",
    "# Calculamos la probabilidad conjunta de que N sea impar y obtener al menos una cara\n",
    "prob_N_impar = sum(prob_dado[i] * prob_una_cara(N_valores[i]) for i in [0, 2, 4])\n",
    "\n",
    "# Calculamos la probabilidad total de obtener al menos una cara para cualquier valor de N\n",
    "prob_una_cara_total = sum(prob_dado[i] * prob_una_cara(N_valores[i]) for i in range(6))\n",
    "\n",
    "# Probabilidad condicional P(N es impar | al menos una cara)\n",
    "prob_condicional = prob_N_impar / prob_una_cara_total\n",
    "\n",
    "print(prob_condicional)\n"
   ]
  },
  {
   "cell_type": "markdown",
   "metadata": {},
   "source": [
    "# Nota: 50\n",
    "la probabilidad no es correcta, ademas no respondiste las dos preguntas."
   ]
  },
  {
   "cell_type": "code",
   "execution_count": 2,
   "metadata": {},
   "outputs": [],
   "source": [
    "import itertools\n",
    "\n",
    "def prob(evento, espacio):\n",
    "    ''' \n",
    "    Regresa la probabilidad de que ocurra 'evento'.\n",
    "    Los argumentos deben ser conjuntos.    \n",
    "    '''\n",
    "    return (len(evento & espacio)/len(espacio))\n",
    "\n",
    "def unir(color, numeros):\n",
    "    return {color + numero for numero in numeros}\n",
    "\n",
    "urna = unir('B', '12345678') | unir('A', '123456') | unir('R', '123456789')\n",
    "\n",
    "espacio = set(itertools.combinations(urna, 6))"
   ]
  },
  {
   "cell_type": "code",
   "execution_count": 3,
   "metadata": {},
   "outputs": [
    {
     "data": {
      "text/plain": [
       "0.28582325378664053"
      ]
     },
     "execution_count": 3,
     "metadata": {},
     "output_type": "execute_result"
    }
   ],
   "source": [
    "def tres_primeras_no_rojas(evento):\n",
    "    s = [i[0] for i in evento[:3]]\n",
    "    return s.count('R') == 0\n",
    "\n",
    "rojos = {e for e in espacio if tres_primeras_no_rojas(e)}\n",
    "\n",
    "prob(rojos, espacio)"
   ]
  },
  {
   "cell_type": "code",
   "execution_count": 4,
   "metadata": {},
   "outputs": [
    {
     "data": {
      "text/plain": [
       "0.1497815685458706"
      ]
     },
     "execution_count": 4,
     "metadata": {},
     "output_type": "execute_result"
    }
   ],
   "source": [
    "def dos_de_cada(evento):\n",
    "    s = [i[0] for i in evento]\n",
    "    Rs = s.count('R')\n",
    "    As = s.count('A')\n",
    "    Bs = s.count('B')\n",
    "    return Rs == As == Bs\n",
    "\n",
    "evento = {e for e in espacio if dos_de_cada(e)}\n",
    "prob(evento, espacio)"
   ]
  },
  {
   "cell_type": "code",
   "execution_count": null,
   "metadata": {},
   "outputs": [],
   "source": []
  }
 ],
 "metadata": {
  "colab": {
   "provenance": []
  },
  "kernelspec": {
   "display_name": "Python 3 (ipykernel)",
   "language": "python",
   "name": "python3"
  },
  "language_info": {
   "codemirror_mode": {
    "name": "ipython",
    "version": 3
   },
   "file_extension": ".py",
   "mimetype": "text/x-python",
   "name": "python",
   "nbconvert_exporter": "python",
   "pygments_lexer": "ipython3",
   "version": "3.11.3"
  }
 },
 "nbformat": 4,
 "nbformat_minor": 1
}
