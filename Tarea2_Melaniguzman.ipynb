{
  "nbformat": 4,
  "nbformat_minor": 0,
  "metadata": {
    "colab": {
      "provenance": []
    },
    "kernelspec": {
      "name": "python3",
      "display_name": "Python 3"
    },
    "language_info": {
      "name": "python"
    }
  },
  "cells": [
    {
      "cell_type": "markdown",
      "source": [
        "# Tarea 2.6\n",
        "\n",
        "En el problema de la urna con23 bolas, al extraer 6 de ellas sin reemplazo.\n",
        "\n",
        "¿Cuál es la probabilidad de que entre las tres primeras no haya ninguna roja?\n",
        "¿Cuál es la probabilidad de sacar dos bolas de cada color?\n"
      ],
      "metadata": {
        "id": "jWsraqjDWFTW"
      }
    },
    {
      "cell_type": "code",
      "source": [
        "import numpy as np\n",
        "\n",
        "# Probabilidades dadas para los resultados del dado\n",
        "prob_dado = np.array([0.1, 0.2, 0.2, 0.3, 0.1, 0.1])\n",
        "\n",
        "# Definimos los posibles valores de N\n",
        "N_valores = np.array([1, 2, 3, 4, 5, 6])\n",
        "\n",
        "# Función para calcular la probabilidad de obtener al menos una cara\n",
        "def prob_una_cara(N):\n",
        "    return 1 - (0.5) ** N\n",
        "\n",
        "# Calculamos la probabilidad conjunta de que N sea impar y obtener al menos una cara\n",
        "prob_N_impar = sum(prob_dado[i] * prob_una_cara(N_valores[i]) for i in [0, 2, 4])\n",
        "\n",
        "# Calculamos la probabilidad total de obtener al menos una cara para cualquier valor de N\n",
        "prob_una_cara_total = sum(prob_dado[i] * prob_una_cara(N_valores[i]) for i in range(6))\n",
        "\n",
        "# Probabilidad condicional P(N es impar | al menos una cara)\n",
        "prob_condicional = prob_N_impar / prob_una_cara_total\n",
        "\n",
        "print(prob_condicional)\n"
      ],
      "metadata": {
        "colab": {
          "base_uri": "https://localhost:8080/"
        },
        "id": "8aLAzJUsWLiU",
        "outputId": "f44ec178-2bed-4fe5-d1f2-445647dadc70"
      },
      "execution_count": 3,
      "outputs": [
        {
          "output_type": "stream",
          "name": "stdout",
          "text": [
            "0.3779816513761468\n"
          ]
        }
      ]
    }
  ]
}