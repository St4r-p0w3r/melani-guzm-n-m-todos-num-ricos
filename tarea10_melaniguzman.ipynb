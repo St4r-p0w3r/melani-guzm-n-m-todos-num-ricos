{
 "cells": [
  {
   "cell_type": "markdown",
   "id": "c93ffce5",
   "metadata": {},
   "source": [
    "## tarea 10\n",
    "\n",
    "Para un cierto sistema el volumen está dado por\n",
    "V(θ1,θ2)=sinh(θ41+θ22)−1, \n",
    "donde  θ1,θ2≥0 .\n",
    "\n",
    "Encuentre los valores de los parámetros para los cuales el volumen es mínimo."
   ]
  },
  {
   "cell_type": "code",
   "execution_count": 7,
   "id": "8a8b5dba",
   "metadata": {},
   "outputs": [
    {
     "name": "stdout",
     "output_type": "stream",
     "text": [
      "Derivada parcial de V con respecto a theta1:\n",
      "4*theta1**3*cosh(theta1**4 + theta2**2)\n",
      "Derivada parcial de V con respecto a theta2:\n",
      "2*theta2*cosh(theta1**4 + theta2**2)\n",
      "Las soluciones para (theta1, theta2) que minimizan el volumen son:\n",
      "[]\n"
     ]
    }
   ],
   "source": [
    "import sympy as sp\n",
    "\n",
    "# definimos las variables simbolicas\n",
    "theta1, theta2 = sp.symbols('theta1 theta2')\n",
    "\n",
    "# definimos la funcion del volumen\n",
    "V = sp.sinh(theta1**4 + theta2**2) - 1\n",
    "\n",
    "# derivada parcial con respecto a theta1\n",
    "# igualamos las derivadas a 0 para encontrar los valores de theta 1 y 2 que minimizan V\n",
    "dV_dtheta1 = sp.diff(V, theta1)\n",
    "\n",
    "# derivada parcial con respecto a theta2\n",
    "dV_dtheta2 = sp.diff(V, theta2)\n",
    "\n",
    "# mostrar las derivadas parciales para verificar\n",
    "print(\"Derivada parcial de V con respecto a theta1:\")\n",
    "print(dV_dtheta1)\n",
    "\n",
    "print(\"Derivada parcial de V con respecto a theta2:\")\n",
    "print(dV_dtheta2)\n",
    "\n",
    "# resolver el sistema de ecuaciones dV/dtheta1 = 0 y dV/dtheta2 = 0\n",
    "soluciones = sp.solve([dV_dtheta1, dV_dtheta2], (theta1, theta2))\n",
    "\n",
    "# mostrar las soluciones\n",
    "print(\"Las soluciones para (theta1, theta2) que minimizan el volumen son:\")\n",
    "print(soluciones)\n",
    "\n"
   ]
  },
  {
   "cell_type": "code",
   "execution_count": null,
   "id": "3d557ef7",
   "metadata": {},
   "outputs": [],
   "source": []
  },
  {
   "cell_type": "code",
   "execution_count": null,
   "id": "b77d82fe",
   "metadata": {},
   "outputs": [],
   "source": []
  }
 ],
 "metadata": {
  "kernelspec": {
   "display_name": "Python 3 (ipykernel)",
   "language": "python",
   "name": "python3"
  },
  "language_info": {
   "codemirror_mode": {
    "name": "ipython",
    "version": 3
   },
   "file_extension": ".py",
   "mimetype": "text/x-python",
   "name": "python",
   "nbconvert_exporter": "python",
   "pygments_lexer": "ipython3",
   "version": "3.11.4"
  }
 },
 "nbformat": 4,
 "nbformat_minor": 5
}
